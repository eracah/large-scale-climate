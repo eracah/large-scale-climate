{
 "metadata": {
  "name": "",
  "signature": "sha256:86e49638c582d5113dd243af9c31962535e260cb1a79eff4578b3dfd93056239"
 },
 "nbformat": 3,
 "nbformat_minor": 0,
 "worksheets": [
  {
   "cells": [
    {
     "cell_type": "code",
     "collapsed": false,
     "input": [
      "%matplotlib inline\n",
      "from pyspark import SparkContext"
     ],
     "language": "python",
     "metadata": {},
     "outputs": []
    },
    {
     "cell_type": "code",
     "collapsed": false,
     "input": [
      "import pygrib\n",
      "import numpy.ma as ma\n",
      "grbs = pygrib.open(\"test.grb2\")\n",
      "offset = 207\n",
      "temps = grbs[offset].values\n",
      "lats, lons = grbs[offset].latlons()\n"
     ],
     "language": "python",
     "metadata": {},
     "outputs": []
    },
    {
     "cell_type": "code",
     "collapsed": false,
     "input": [
      "from mpl_toolkits.basemap import Basemap\n",
      "import matplotlib.pyplot as plt\n",
      "import numpy as np\n",
      "\n",
      "fig = plt.figure()\n",
      "ax = fig.add_axes([0.05,0.05,0.9,0.9])\n",
      "# create Basemap instance.\n",
      "# coastlines not used, so resolution set to None to skip\n",
      "# continent processing (this speeds things up a bit)\n",
      "m = Basemap(projection='kav7',lon_0=0,resolution=None)\n",
      "# draw line around map projection limb.\n",
      "# color background of map projection region.\n",
      "# missing values over land will show up this color.\n",
      "m.drawmapboundary(fill_color='0.3')\n",
      "im1 = m.pcolormesh(lons,lats,temps,shading='flat',cmap=plt.cm.jet,latlon=True)\n",
      "# draw parallels and meridians, but don't bother labelling them.\n",
      "m.drawparallels(np.arange(-90.,99.,30.))\n",
      "m.drawmeridians(np.arange(-180.,180.,60.))\n",
      "# add colorbar\n",
      "cb = m.colorbar(im1,\"bottom\", size=\"5%\", pad=\"2%\")\n",
      "# add a title.\n",
      "ax.set_title('Temperature at %d m below sea level' % grbs[offset].level)\n",
      "plt.show()\n",
      "\n"
     ],
     "language": "python",
     "metadata": {},
     "outputs": []
    },
    {
     "cell_type": "code",
     "collapsed": false,
     "input": [],
     "language": "python",
     "metadata": {},
     "outputs": []
    },
    {
     "cell_type": "code",
     "collapsed": false,
     "input": [
      "temps.shape"
     ],
     "language": "python",
     "metadata": {},
     "outputs": []
    },
    {
     "cell_type": "code",
     "collapsed": false,
     "input": [
      "def loadEOF(fname, numeofs, numobs):\n",
      "    eofs = np.zeros((numeofs, numobs))\n",
      "    with open(fname, 'r') as fin:\n",
      "        fin.readline()\n",
      "        for line in fin:\n",
      "            (i, j, v) = line.split()\n",
      "            eofs[int(j)-1, int(i)-1] = float(v)\n",
      "    return eofs\n",
      "\n",
      "eofs = loadEOF(\"/home/ubuntu/large-scale-climate/data/colEOFs\", 20, 6349676)"
     ],
     "language": "python",
     "metadata": {},
     "outputs": []
    },
    {
     "cell_type": "code",
     "collapsed": false,
     "input": [
      "grbs = pygrib.open(\"test.grb2\")\n",
      "offset = 207\n",
      "missingflatmask = grbs[offset].data()[0].mask.flatten()\n",
      "missingindices = [i for i,e in enumerate(grbs[offset].data()[0].mask.flatten()) if e]\n",
      "SSTmask = missingflatmask[:360*720]\n",
      "\n",
      "def extractSST(eof):\n",
      "    nummissingSSTs = len(filter(lambda x: x < 360*720, missingindices))\n",
      "    observedSSTs = eof[:(360*720-nummissingSSTs)]\n",
      "\n",
      "    SST = np.zeros((360*720,))\n",
      "    SST[SSTmask == False] = observedSSTs \n",
      "    return SST\n",
      "    \n",
      "def scaleSST(sst):\n",
      "    return (sst - sst[SSTmask==False].mean())/sst[SSTmask==False].std()\n",
      "\n",
      "def visualSST(sst):\n",
      "    return ma.masked_array(sst.reshape((360,720)), SSTmask.reshape((360,720)))"
     ],
     "language": "python",
     "metadata": {},
     "outputs": []
    },
    {
     "cell_type": "code",
     "collapsed": false,
     "input": [
      "sst = extractSST(eofs[1,:])\n",
      "np.linalg.norm(sst)"
     ],
     "language": "python",
     "metadata": {},
     "outputs": []
    },
    {
     "cell_type": "code",
     "collapsed": false,
     "input": [
      "fig = plt.figure()\n",
      "ax = fig.add_axes([0.05,0.05,0.9,0.9])\n",
      "# create Basemap instance.\n",
      "# coastlines not used, so resolution set to None to skip\n",
      "# continent processing (this speeds things up a bit)\n",
      "m = Basemap(projection='kav7',lon_0=0,resolution=None)\n",
      "# draw line around map projection limb.\n",
      "# color background of map projection region.\n",
      "# missing values over land will show up this color.\n",
      "m.drawmapboundary(fill_color='0.3')\n",
      "im1 = m.pcolormesh(lons,lats,visualSST(sst),shading='flat',cmap=plt.cm.jet,latlon=True)\n",
      "# draw parallels and meridians, but don't bother labelling them.\n",
      "m.drawparallels(np.arange(-90.,99.,30.))\n",
      "m.drawmeridians(np.arange(-180.,180.,60.))\n",
      "# add colorbar\n",
      "cb = m.colorbar(im1,\"bottom\", size=\"5%\", pad=\"2%\")\n",
      "# add a title.\n",
      "ax.set_title('SST portion of first EOF')\n",
      "plt.show()"
     ],
     "language": "python",
     "metadata": {},
     "outputs": []
    },
    {
     "cell_type": "code",
     "collapsed": false,
     "input": [],
     "language": "python",
     "metadata": {},
     "outputs": []
    }
   ],
   "metadata": {}
  }
 ]
}