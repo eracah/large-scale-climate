{
 "metadata": {
  "name": "",
  "signature": "sha256:973434fd74f72b6fa0e1d227fa9886b5b8a228c8d079924624ccde899190b4d4"
 },
 "nbformat": 3,
 "nbformat_minor": 0,
 "worksheets": [
  {
   "cells": [
    {
     "cell_type": "code",
     "collapsed": false,
     "input": [
      "%matplotlib inline\n",
      "import numpy.ma as ma\n",
      "import numpy as np\n",
      "from mpl_toolkits.basemap import Basemap\n",
      "import matplotlib.pyplot as plt\n",
      "from netCDF4 import Dataset"
     ],
     "language": "python",
     "metadata": {},
     "outputs": [],
     "prompt_number": 1
    },
    {
     "cell_type": "code",
     "collapsed": false,
     "input": [
      "nc_f = '/home/ubuntu/large-scale-climate/data/CFSR-eofs.nc'\n",
      "nc_fid = Dataset(nc_f, 'r') \n",
      "lats = nc_fid.variables['lat_0'][:]\n",
      "lons = nc_fid.variables['lon_0'][:]\n",
      "\n",
      "def plotSurfaceField(field, title):\n",
      "    fig = plt.figure()\n",
      "    ax = fig.add_axes([0.05,0.05,0.9,0.9])\n",
      "    m = Basemap(projection='kav7',lon_0=0,resolution=None)\n",
      "    m.drawmapboundary(fill_color='0.3')\n",
      "    im1 = m.pcolormesh(lons,lats,field,shading='flat',cmap=plt.cm.jet,latlon=True)\n",
      "    m.drawparallels(np.arange(-90.,99.,30.))\n",
      "    m.drawmeridians(np.arange(-180.,180.,60.))\n",
      "    cb = m.colorbar(im1,\"bottom\", size=\"5%\", pad=\"2%\")\n",
      "    ax.set_title(title)\n",
      "    fig.set_figheight(7)\n",
      "    fig.set_figwidth(14)\n",
      "    plt.show()\n",
      "    \n",
      "lats"
     ],
     "language": "python",
     "metadata": {},
     "outputs": [
      {
       "metadata": {},
       "output_type": "pyout",
       "prompt_number": 21,
       "text": [
        "array([ 89.75,  89.75,  89.75,  89.75,  89.75,  89.75,  89.75,  89.75,\n",
        "        89.75,  89.75,  89.75,  89.75,  89.75,  89.75,  89.75,  89.75,\n",
        "        89.75,  89.75,  89.75,  89.75,  89.75,  89.75,  89.75,  89.75,\n",
        "        89.75,  89.75,  89.75,  89.75,  89.75,  89.75,  89.75,  89.75,\n",
        "        89.75,  89.75,  89.75,  89.75,  89.75,  89.75,  89.75,  89.75,\n",
        "        89.75,  89.75,  89.75,  89.75,  89.75,  89.75,  89.75,  89.75,\n",
        "        89.75,  89.75,  89.75,  89.75,  89.75,  89.75,  89.75,  89.75,\n",
        "        89.75,  89.75,  89.75,  89.75,  89.75,  89.75,  89.75,  89.75,\n",
        "        89.75,  89.75,  89.75,  89.75,  89.75,  89.75,  89.75,  89.75,\n",
        "        89.75,  89.75,  89.75,  89.75,  89.75,  89.75,  89.75,  89.75,\n",
        "        89.75,  89.75,  89.75,  89.75,  89.75,  89.75,  89.75,  89.75,\n",
        "        89.75,  89.75,  89.75,  89.75,  89.75,  89.75,  89.75,  89.75,\n",
        "        89.75,  89.75,  89.75,  89.75,  89.75,  89.75,  89.75,  89.75,\n",
        "        89.75,  89.75,  89.75,  89.75,  89.75,  89.75,  89.75,  89.75,\n",
        "        89.75,  89.75,  89.75,  89.75,  89.75,  89.75,  89.75,  89.75,\n",
        "        89.75,  89.75,  89.75,  89.75,  89.75,  89.75,  89.75,  89.75,\n",
        "        89.75,  89.75,  89.75,  89.75,  89.75,  89.75,  89.75,  89.75,\n",
        "        89.75,  89.75,  89.75,  89.75,  89.75,  89.75,  89.75,  89.75,\n",
        "        89.75,  89.75,  89.75,  89.75,  89.75,  89.75,  89.75,  89.75,\n",
        "        89.75,  89.75,  89.75,  89.75,  89.75,  89.75,  89.75,  89.75,\n",
        "        89.75,  89.75,  89.75,  89.75,  89.75,  89.75,  89.75,  89.75,\n",
        "        89.75,  89.75,  89.75,  89.75,  89.75,  89.75,  89.75,  89.75,\n",
        "        89.75,  89.75,  89.75,  89.75,  89.75,  89.75,  89.75,  89.75,\n",
        "        89.75,  89.75,  89.75,  89.75,  89.75,  89.75,  89.75,  89.75,\n",
        "        89.75,  89.75,  89.75,  89.75,  89.75,  89.75,  89.75,  89.75,\n",
        "        89.75,  89.75,  89.75,  89.75,  89.75,  89.75,  89.75,  89.75,\n",
        "        89.75,  89.75,  89.75,  89.75,  89.75,  89.75,  89.75,  89.75,\n",
        "        89.75,  89.75,  89.75,  89.75,  89.75,  89.75,  89.75,  89.75,\n",
        "        89.75,  89.75,  89.75,  89.75,  89.75,  89.75,  89.75,  89.75,\n",
        "        89.75,  89.75,  89.75,  89.75,  89.75,  89.75,  89.75,  89.75,\n",
        "        89.75,  89.75,  89.75,  89.75,  89.75,  89.75,  89.75,  89.75,\n",
        "        89.75,  89.75,  89.75,  89.75,  89.75,  89.75,  89.75,  89.75,\n",
        "        89.75,  89.75,  89.75,  89.75,  89.75,  89.75,  89.75,  89.75,\n",
        "        89.75,  89.75,  89.75,  89.75,  89.75,  89.75,  89.75,  89.75,\n",
        "        89.75,  89.75,  89.75,  89.75,  89.75,  89.75,  89.75,  89.75,\n",
        "        89.75,  89.75,  89.75,  89.75,  89.75,  89.75,  89.75,  89.75,\n",
        "        89.75,  89.75,  89.75,  89.75,  89.75,  89.75,  89.75,  89.75,\n",
        "        89.75,  89.75,  89.75,  89.75,  89.75,  89.75,  89.75,  89.75,\n",
        "        89.75,  89.75,  89.75,  89.75,  89.75,  89.75,  89.75,  89.75,\n",
        "        89.75,  89.75,  89.75,  89.75,  89.75,  89.75,  89.75,  89.75,\n",
        "        89.75,  89.75,  89.75,  89.75,  89.75,  89.75,  89.75,  89.75,\n",
        "        89.75,  89.75,  89.75,  89.75,  89.75,  89.75,  89.75,  89.75,\n",
        "        89.75,  89.75,  89.75,  89.75,  89.75,  89.75,  89.75,  89.75,\n",
        "        89.75,  89.75,  89.75,  89.75,  89.75,  89.75,  89.75,  89.75,\n",
        "        89.75,  89.75,  89.75,  89.75,  89.75,  89.75,  89.75,  89.75], dtype=float32)"
       ]
      }
     ],
     "prompt_number": 21
    },
    {
     "cell_type": "code",
     "collapsed": false,
     "input": [
      "eof1 = nc_fid.variables['EOF_0'][:]\n",
      "plotSurfaceField(eof1[0,:,:], 'top EOF')"
     ],
     "language": "python",
     "metadata": {},
     "outputs": [
      {
       "ename": "RuntimeError",
       "evalue": "Buffer lengths not the same",
       "output_type": "pyerr",
       "traceback": [
        "\u001b[0;31m---------------------------------------------------------------------------\u001b[0m\n\u001b[0;31mRuntimeError\u001b[0m                              Traceback (most recent call last)",
        "\u001b[0;32m<ipython-input-12-dc7b62219805>\u001b[0m in \u001b[0;36m<module>\u001b[0;34m()\u001b[0m\n\u001b[1;32m      1\u001b[0m \u001b[0meof1\u001b[0m \u001b[0;34m=\u001b[0m \u001b[0mnc_fid\u001b[0m\u001b[0;34m.\u001b[0m\u001b[0mvariables\u001b[0m\u001b[0;34m[\u001b[0m\u001b[0;34m'EOF_0'\u001b[0m\u001b[0;34m]\u001b[0m\u001b[0;34m[\u001b[0m\u001b[0;34m:\u001b[0m\u001b[0;34m]\u001b[0m\u001b[0;34m\u001b[0m\u001b[0m\n\u001b[0;32m----> 2\u001b[0;31m \u001b[0mplotSurfaceField\u001b[0m\u001b[0;34m(\u001b[0m\u001b[0meof1\u001b[0m\u001b[0;34m[\u001b[0m\u001b[0;36m0\u001b[0m\u001b[0;34m,\u001b[0m\u001b[0;34m:\u001b[0m\u001b[0;34m,\u001b[0m\u001b[0;34m:\u001b[0m\u001b[0;34m]\u001b[0m\u001b[0;34m,\u001b[0m \u001b[0;34m'top EOF'\u001b[0m\u001b[0;34m)\u001b[0m\u001b[0;34m\u001b[0m\u001b[0m\n\u001b[0m",
        "\u001b[0;32m<ipython-input-11-5ec464ef9196>\u001b[0m in \u001b[0;36mplotSurfaceField\u001b[0;34m(field, title)\u001b[0m\n\u001b[1;32m      9\u001b[0m     \u001b[0mm\u001b[0m \u001b[0;34m=\u001b[0m \u001b[0mBasemap\u001b[0m\u001b[0;34m(\u001b[0m\u001b[0mprojection\u001b[0m\u001b[0;34m=\u001b[0m\u001b[0;34m'kav7'\u001b[0m\u001b[0;34m,\u001b[0m\u001b[0mlon_0\u001b[0m\u001b[0;34m=\u001b[0m\u001b[0;36m0\u001b[0m\u001b[0;34m,\u001b[0m\u001b[0mresolution\u001b[0m\u001b[0;34m=\u001b[0m\u001b[0mNone\u001b[0m\u001b[0;34m)\u001b[0m\u001b[0;34m\u001b[0m\u001b[0m\n\u001b[1;32m     10\u001b[0m     \u001b[0mm\u001b[0m\u001b[0;34m.\u001b[0m\u001b[0mdrawmapboundary\u001b[0m\u001b[0;34m(\u001b[0m\u001b[0mfill_color\u001b[0m\u001b[0;34m=\u001b[0m\u001b[0;34m'0.3'\u001b[0m\u001b[0;34m)\u001b[0m\u001b[0;34m\u001b[0m\u001b[0m\n\u001b[0;32m---> 11\u001b[0;31m     \u001b[0mim1\u001b[0m \u001b[0;34m=\u001b[0m \u001b[0mm\u001b[0m\u001b[0;34m.\u001b[0m\u001b[0mpcolormesh\u001b[0m\u001b[0;34m(\u001b[0m\u001b[0mlons\u001b[0m\u001b[0;34m,\u001b[0m\u001b[0mlats\u001b[0m\u001b[0;34m,\u001b[0m\u001b[0mfield\u001b[0m\u001b[0;34m,\u001b[0m\u001b[0mshading\u001b[0m\u001b[0;34m=\u001b[0m\u001b[0;34m'flat'\u001b[0m\u001b[0;34m,\u001b[0m\u001b[0mcmap\u001b[0m\u001b[0;34m=\u001b[0m\u001b[0mplt\u001b[0m\u001b[0;34m.\u001b[0m\u001b[0mcm\u001b[0m\u001b[0;34m.\u001b[0m\u001b[0mjet\u001b[0m\u001b[0;34m,\u001b[0m\u001b[0mlatlon\u001b[0m\u001b[0;34m=\u001b[0m\u001b[0mTrue\u001b[0m\u001b[0;34m)\u001b[0m\u001b[0;34m\u001b[0m\u001b[0m\n\u001b[0m\u001b[1;32m     12\u001b[0m     \u001b[0mm\u001b[0m\u001b[0;34m.\u001b[0m\u001b[0mdrawparallels\u001b[0m\u001b[0;34m(\u001b[0m\u001b[0mnp\u001b[0m\u001b[0;34m.\u001b[0m\u001b[0marange\u001b[0m\u001b[0;34m(\u001b[0m\u001b[0;34m-\u001b[0m\u001b[0;36m90.\u001b[0m\u001b[0;34m,\u001b[0m\u001b[0;36m99.\u001b[0m\u001b[0;34m,\u001b[0m\u001b[0;36m30.\u001b[0m\u001b[0;34m)\u001b[0m\u001b[0;34m)\u001b[0m\u001b[0;34m\u001b[0m\u001b[0m\n\u001b[1;32m     13\u001b[0m     \u001b[0mm\u001b[0m\u001b[0;34m.\u001b[0m\u001b[0mdrawmeridians\u001b[0m\u001b[0;34m(\u001b[0m\u001b[0mnp\u001b[0m\u001b[0;34m.\u001b[0m\u001b[0marange\u001b[0m\u001b[0;34m(\u001b[0m\u001b[0;34m-\u001b[0m\u001b[0;36m180.\u001b[0m\u001b[0;34m,\u001b[0m\u001b[0;36m180.\u001b[0m\u001b[0;34m,\u001b[0m\u001b[0;36m60.\u001b[0m\u001b[0;34m)\u001b[0m\u001b[0;34m)\u001b[0m\u001b[0;34m\u001b[0m\u001b[0m\n",
        "\u001b[0;32m/usr/local/lib/python2.7/dist-packages/mpl_toolkits/basemap/__init__.pyc\u001b[0m in \u001b[0;36mwith_transform\u001b[0;34m(self, x, y, data, *args, **kwargs)\u001b[0m\n\u001b[1;32m    518\u001b[0m                 \u001b[0mx\u001b[0m\u001b[0;34m,\u001b[0m \u001b[0mdata\u001b[0m \u001b[0;34m=\u001b[0m \u001b[0mself\u001b[0m\u001b[0;34m.\u001b[0m\u001b[0mshiftdata\u001b[0m\u001b[0;34m(\u001b[0m\u001b[0mx\u001b[0m\u001b[0;34m,\u001b[0m \u001b[0mdata\u001b[0m\u001b[0;34m)\u001b[0m\u001b[0;34m\u001b[0m\u001b[0m\n\u001b[1;32m    519\u001b[0m             \u001b[0;31m# convert lat/lon coords to map projection coords.\u001b[0m\u001b[0;34m\u001b[0m\u001b[0;34m\u001b[0m\u001b[0m\n\u001b[0;32m--> 520\u001b[0;31m             \u001b[0mx\u001b[0m\u001b[0;34m,\u001b[0m \u001b[0my\u001b[0m \u001b[0;34m=\u001b[0m \u001b[0mself\u001b[0m\u001b[0;34m(\u001b[0m\u001b[0mx\u001b[0m\u001b[0;34m,\u001b[0m\u001b[0my\u001b[0m\u001b[0;34m)\u001b[0m\u001b[0;34m\u001b[0m\u001b[0m\n\u001b[0m\u001b[1;32m    521\u001b[0m         \u001b[0;32mreturn\u001b[0m \u001b[0mplotfunc\u001b[0m\u001b[0;34m(\u001b[0m\u001b[0mself\u001b[0m\u001b[0;34m,\u001b[0m\u001b[0mx\u001b[0m\u001b[0;34m,\u001b[0m\u001b[0my\u001b[0m\u001b[0;34m,\u001b[0m\u001b[0mdata\u001b[0m\u001b[0;34m,\u001b[0m\u001b[0;34m*\u001b[0m\u001b[0margs\u001b[0m\u001b[0;34m,\u001b[0m\u001b[0;34m**\u001b[0m\u001b[0mkwargs\u001b[0m\u001b[0;34m)\u001b[0m\u001b[0;34m\u001b[0m\u001b[0m\n\u001b[1;32m    522\u001b[0m     \u001b[0;32mreturn\u001b[0m \u001b[0mwith_transform\u001b[0m\u001b[0;34m\u001b[0m\u001b[0m\n",
        "\u001b[0;32m/usr/local/lib/python2.7/dist-packages/mpl_toolkits/basemap/__init__.pyc\u001b[0m in \u001b[0;36m__call__\u001b[0;34m(self, x, y, inverse)\u001b[0m\n\u001b[1;32m   1146\u001b[0m             \u001b[0;32mexcept\u001b[0m \u001b[0mTypeError\u001b[0m\u001b[0;34m:\u001b[0m\u001b[0;34m\u001b[0m\u001b[0m\n\u001b[1;32m   1147\u001b[0m                 \u001b[0my\u001b[0m \u001b[0;34m=\u001b[0m \u001b[0;34m[\u001b[0m\u001b[0m_dg2rad\u001b[0m\u001b[0;34m*\u001b[0m\u001b[0myy\u001b[0m \u001b[0;32mfor\u001b[0m \u001b[0myy\u001b[0m \u001b[0;32min\u001b[0m \u001b[0my\u001b[0m\u001b[0;34m]\u001b[0m\u001b[0;34m\u001b[0m\u001b[0m\n\u001b[0;32m-> 1148\u001b[0;31m         \u001b[0mxout\u001b[0m\u001b[0;34m,\u001b[0m\u001b[0myout\u001b[0m \u001b[0;34m=\u001b[0m \u001b[0mself\u001b[0m\u001b[0;34m.\u001b[0m\u001b[0mprojtran\u001b[0m\u001b[0;34m(\u001b[0m\u001b[0mx\u001b[0m\u001b[0;34m,\u001b[0m\u001b[0my\u001b[0m\u001b[0;34m,\u001b[0m\u001b[0minverse\u001b[0m\u001b[0;34m=\u001b[0m\u001b[0minverse\u001b[0m\u001b[0;34m)\u001b[0m\u001b[0;34m\u001b[0m\u001b[0m\n\u001b[0m\u001b[1;32m   1149\u001b[0m         \u001b[0;32mif\u001b[0m \u001b[0mself\u001b[0m\u001b[0;34m.\u001b[0m\u001b[0mcelestial\u001b[0m \u001b[0;32mand\u001b[0m \u001b[0minverse\u001b[0m\u001b[0;34m:\u001b[0m\u001b[0;34m\u001b[0m\u001b[0m\n\u001b[1;32m   1150\u001b[0m             \u001b[0;32mtry\u001b[0m\u001b[0;34m:\u001b[0m\u001b[0;34m\u001b[0m\u001b[0m\n",
        "\u001b[0;32m/usr/local/lib/python2.7/dist-packages/mpl_toolkits/basemap/proj.pyc\u001b[0m in \u001b[0;36m__call__\u001b[0;34m(self, *args, **kw)\u001b[0m\n\u001b[1;32m    284\u001b[0m             \u001b[0moutxy\u001b[0m \u001b[0;34m=\u001b[0m \u001b[0mself\u001b[0m\u001b[0;34m.\u001b[0m\u001b[0m_proj4\u001b[0m\u001b[0;34m(\u001b[0m\u001b[0mxy\u001b[0m\u001b[0;34m,\u001b[0m \u001b[0minverse\u001b[0m\u001b[0;34m=\u001b[0m\u001b[0minverse\u001b[0m\u001b[0;34m)\u001b[0m\u001b[0;34m\u001b[0m\u001b[0m\n\u001b[1;32m    285\u001b[0m         \u001b[0;32melse\u001b[0m\u001b[0;34m:\u001b[0m\u001b[0;34m\u001b[0m\u001b[0m\n\u001b[0;32m--> 286\u001b[0;31m             \u001b[0moutx\u001b[0m\u001b[0;34m,\u001b[0m\u001b[0mouty\u001b[0m \u001b[0;34m=\u001b[0m \u001b[0mself\u001b[0m\u001b[0;34m.\u001b[0m\u001b[0m_proj4\u001b[0m\u001b[0;34m(\u001b[0m\u001b[0mx\u001b[0m\u001b[0;34m,\u001b[0m \u001b[0my\u001b[0m\u001b[0;34m,\u001b[0m \u001b[0minverse\u001b[0m\u001b[0;34m=\u001b[0m\u001b[0minverse\u001b[0m\u001b[0;34m)\u001b[0m\u001b[0;34m\u001b[0m\u001b[0m\n\u001b[0m\u001b[1;32m    287\u001b[0m         \u001b[0;32mif\u001b[0m \u001b[0minverse\u001b[0m\u001b[0;34m:\u001b[0m\u001b[0;34m\u001b[0m\u001b[0m\n\u001b[1;32m    288\u001b[0m             \u001b[0;32mif\u001b[0m \u001b[0mself\u001b[0m\u001b[0;34m.\u001b[0m\u001b[0mprojection\u001b[0m \u001b[0;32min\u001b[0m \u001b[0;34m[\u001b[0m\u001b[0;34m'merc'\u001b[0m\u001b[0;34m,\u001b[0m\u001b[0;34m'mill'\u001b[0m\u001b[0;34m,\u001b[0m\u001b[0;34m'gall'\u001b[0m\u001b[0;34m]\u001b[0m\u001b[0;34m:\u001b[0m\u001b[0;34m\u001b[0m\u001b[0m\n",
        "\u001b[0;32m/usr/local/lib/python2.7/dist-packages/mpl_toolkits/basemap/pyproj.pyc\u001b[0m in \u001b[0;36m__call__\u001b[0;34m(self, *args, **kw)\u001b[0m\n\u001b[1;32m    386\u001b[0m             \u001b[0m_proj\u001b[0m\u001b[0;34m.\u001b[0m\u001b[0mProj\u001b[0m\u001b[0;34m.\u001b[0m\u001b[0m_inv\u001b[0m\u001b[0;34m(\u001b[0m\u001b[0mself\u001b[0m\u001b[0;34m,\u001b[0m \u001b[0minx\u001b[0m\u001b[0;34m,\u001b[0m \u001b[0miny\u001b[0m\u001b[0;34m,\u001b[0m \u001b[0mradians\u001b[0m\u001b[0;34m=\u001b[0m\u001b[0mradians\u001b[0m\u001b[0;34m,\u001b[0m \u001b[0merrcheck\u001b[0m\u001b[0;34m=\u001b[0m\u001b[0merrcheck\u001b[0m\u001b[0;34m)\u001b[0m\u001b[0;34m\u001b[0m\u001b[0m\n\u001b[1;32m    387\u001b[0m         \u001b[0;32melse\u001b[0m\u001b[0;34m:\u001b[0m\u001b[0;34m\u001b[0m\u001b[0m\n\u001b[0;32m--> 388\u001b[0;31m             \u001b[0m_proj\u001b[0m\u001b[0;34m.\u001b[0m\u001b[0mProj\u001b[0m\u001b[0;34m.\u001b[0m\u001b[0m_fwd\u001b[0m\u001b[0;34m(\u001b[0m\u001b[0mself\u001b[0m\u001b[0;34m,\u001b[0m \u001b[0minx\u001b[0m\u001b[0;34m,\u001b[0m \u001b[0miny\u001b[0m\u001b[0;34m,\u001b[0m \u001b[0mradians\u001b[0m\u001b[0;34m=\u001b[0m\u001b[0mradians\u001b[0m\u001b[0;34m,\u001b[0m \u001b[0merrcheck\u001b[0m\u001b[0;34m=\u001b[0m\u001b[0merrcheck\u001b[0m\u001b[0;34m)\u001b[0m\u001b[0;34m\u001b[0m\u001b[0m\n\u001b[0m\u001b[1;32m    389\u001b[0m         \u001b[0;31m# if inputs were lists, tuples or floats, convert back.\u001b[0m\u001b[0;34m\u001b[0m\u001b[0;34m\u001b[0m\u001b[0m\n\u001b[1;32m    390\u001b[0m         \u001b[0moutx\u001b[0m \u001b[0;34m=\u001b[0m \u001b[0m_convertback\u001b[0m\u001b[0;34m(\u001b[0m\u001b[0mxisfloat\u001b[0m\u001b[0;34m,\u001b[0m\u001b[0mxislist\u001b[0m\u001b[0;34m,\u001b[0m\u001b[0mxistuple\u001b[0m\u001b[0;34m,\u001b[0m\u001b[0minx\u001b[0m\u001b[0;34m)\u001b[0m\u001b[0;34m\u001b[0m\u001b[0m\n",
        "\u001b[0;32m/usr/local/lib/python2.7/dist-packages/mpl_toolkits/basemap/_proj.so\u001b[0m in \u001b[0;36m_proj.Proj._fwd (src/_proj.c:1620)\u001b[0;34m()\u001b[0m\n",
        "\u001b[0;31mRuntimeError\u001b[0m: Buffer lengths not the same"
       ]
      },
      {
       "metadata": {},
       "output_type": "display_data",
       "png": "[encoded data removed]",
       "text": [
        "<matplotlib.figure.Figure at 0x7fd4735b7dd0>"
       ]
      }
     ],
     "prompt_number": 12
    },
    {
     "cell_type": "code",
     "collapsed": false,
     "input": [
      "lats.shape"
     ],
     "language": "python",
     "metadata": {},
     "outputs": [
      {
       "metadata": {},
       "output_type": "pyout",
       "prompt_number": 16,
       "text": [
        "(360,)"
       ]
      }
     ],
     "prompt_number": 16
    },
    {
     "cell_type": "code",
     "collapsed": false,
     "input": [],
     "language": "python",
     "metadata": {},
     "outputs": []
    }
   ],
   "metadata": {}
  }
 ]
}